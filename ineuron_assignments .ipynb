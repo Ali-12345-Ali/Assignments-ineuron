{
 "cells": [
  {
   "cell_type": "markdown",
   "id": "ceb2a09e",
   "metadata": {},
   "source": [
    "# PYTHON ASSIGNMENT 1"
   ]
  },
  {
   "cell_type": "code",
   "execution_count": null,
   "id": "815e240a",
   "metadata": {},
   "outputs": [],
   "source": [
    "1)values : 'hello' , -87.8 ,6\n",
    "    \n",
    "expression: - + / *"
   ]
  },
  {
   "cell_type": "code",
   "execution_count": null,
   "id": "69217cc8",
   "metadata": {},
   "outputs": [],
   "source": [
    "2)What is the difference between string and variable?\n",
    "\n",
    "variable stores  data at that instance .  ex: a=10 \n",
    "\n",
    "\n",
    "string is collection of variables in inverted commas ex: 'ncnc' , '67usg'"
   ]
  },
  {
   "cell_type": "code",
   "execution_count": null,
   "id": "bad3f7b7",
   "metadata": {},
   "outputs": [],
   "source": [
    "Describe three different data types.\n",
    "int : stores intergers\n",
    "float : stores floating point numbers     \n",
    "str : stores string \n",
    "     "
   ]
  },
  {
   "cell_type": "code",
   "execution_count": null,
   "id": "85c30dac",
   "metadata": {},
   "outputs": [],
   "source": [
    "What is an expression made up of? What do all expressions do?\n",
    "\n",
    "expression consists of  operands and operators , which will process and give u an ouput .\n"
   ]
  },
  {
   "cell_type": "code",
   "execution_count": null,
   "id": "c6581b20",
   "metadata": {},
   "outputs": [],
   "source": [
    "5. This assignment statements, like spam = 10. What is the difference between an\n",
    "expression and a statement?\n",
    "\n",
    "expression has combination of operands and operators which process and give u new value \n",
    "ex : a=10\n",
    "     c=10\n",
    "     b= c + a \n",
    "     here b gives you 20   \n",
    "\n",
    "statement is just declares a value \n",
    "\n",
    "a=10\n"
   ]
  },
  {
   "cell_type": "code",
   "execution_count": 1,
   "id": "f039b3c7",
   "metadata": {},
   "outputs": [
    {
     "data": {
      "text/plain": [
       "23"
      ]
     },
     "execution_count": 1,
     "metadata": {},
     "output_type": "execute_result"
    }
   ],
   "source": [
    "#6. After running the following code, what does the variable bacon contain?\n",
    "bacon = 22\n",
    "bacon + 1\n",
    "\n",
    "ans : 23"
   ]
  },
  {
   "cell_type": "code",
   "execution_count": 2,
   "id": "4bff075b",
   "metadata": {},
   "outputs": [
    {
     "data": {
      "text/plain": [
       "'spamspamspam'"
      ]
     },
     "execution_count": 2,
     "metadata": {},
     "output_type": "execute_result"
    }
   ],
   "source": [
    "#7. What should the values of the following two terms be?\n",
    "'spam' + 'spamspam'\n",
    "'spam' * 3\n",
    "\n",
    "ans : 'spamspamspam'"
   ]
  },
  {
   "cell_type": "code",
   "execution_count": null,
   "id": "87af4cd3",
   "metadata": {},
   "outputs": [],
   "source": [
    "8. Why is eggs a valid variable name while 100 is invalid?\n",
    "\n",
    "ans : a variable name cannot start with number "
   ]
  },
  {
   "cell_type": "code",
   "execution_count": null,
   "id": "5fc9d636",
   "metadata": {},
   "outputs": [],
   "source": [
    "9. What three functions can be used to get the integer, floating-point number, or string\n",
    "version of a value?\n",
    "\n",
    "ans :\n",
    "    int() ,float(), str()"
   ]
  },
  {
   "cell_type": "code",
   "execution_count": null,
   "id": "00f9ce81",
   "metadata": {},
   "outputs": [],
   "source": [
    "10. Why does this expression cause an error? How can you fix it?\n",
    "'i have eaten ' +  99 +'burritos'\n",
    " ans : \n",
    "        here 99 is int data type \n",
    "        remaining are str data type \n",
    "        we cannot concatenate different data types ."
   ]
  },
  {
   "cell_type": "code",
   "execution_count": null,
   "id": "0aac05c9",
   "metadata": {},
   "outputs": [],
   "source": []
  },
  {
   "cell_type": "code",
   "execution_count": null,
   "id": "b9c8b63f",
   "metadata": {},
   "outputs": [],
   "source": []
  },
  {
   "cell_type": "code",
   "execution_count": null,
   "id": "d06ee9e7",
   "metadata": {},
   "outputs": [],
   "source": []
  }
 ],
 "metadata": {
  "kernelspec": {
   "display_name": "Python 3 (ipykernel)",
   "language": "python",
   "name": "python3"
  },
  "language_info": {
   "codemirror_mode": {
    "name": "ipython",
    "version": 3
   },
   "file_extension": ".py",
   "mimetype": "text/x-python",
   "name": "python",
   "nbconvert_exporter": "python",
   "pygments_lexer": "ipython3",
   "version": "3.9.12"
  }
 },
 "nbformat": 4,
 "nbformat_minor": 5
}
